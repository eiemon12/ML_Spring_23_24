{
  "nbformat": 4,
  "nbformat_minor": 0,
  "metadata": {
    "colab": {
      "provenance": []
    },
    "kernelspec": {
      "name": "python3",
      "display_name": "Python 3"
    },
    "language_info": {
      "name": "python"
    }
  },
  "cells": [
    {
      "cell_type": "code",
      "source": [
        "import numpy as np\n",
        "import matplotlib.pyplot as plt\n",
        "from sklearn.model_selection import train_test_split\n",
        "from sklearn.metrics import accuracy_score, precision_score, recall_score, f1_score, confusion_matrix"
      ],
      "metadata": {
        "id": "I0Tc79yekTXd"
      },
      "execution_count": 9,
      "outputs": []
    },
    {
      "cell_type": "code",
      "source": [
        "# Generating synthetic dataset with five classes\n",
        "np.random.seed(0)\n",
        "X = np.random.randn(500, 10)  # 1000 samples, 10 features\n",
        "Y = np.random.randint(0, 5, (500, 1))  # 5 classes"
      ],
      "metadata": {
        "id": "qwg-X9hBkgzB"
      },
      "execution_count": 10,
      "outputs": []
    },
    {
      "cell_type": "code",
      "source": [
        "# Splitting dataset into training and testing sets\n",
        "X_train, X_test, Y_train, Y_test = train_test_split(X, Y, test_size=0.2, random_state=42)"
      ],
      "metadata": {
        "id": "Kx03bWMskpQm"
      },
      "execution_count": 11,
      "outputs": []
    },
    {
      "cell_type": "code",
      "source": [
        "class NeuralNetwork(object):\n",
        "    def __init__(self):\n",
        "        inputLayerNeurons = X.shape[1]\n",
        "        hiddenLayerNeurons1 = 20\n",
        "        hiddenLayerNeurons2 = 15\n",
        "        hiddenLayerNeurons3 = 10\n",
        "        outLayerNeurons = 5  # Five output neurons for five classes\n",
        "\n",
        "        self.learning_rate = 0.01\n",
        "        self.W_HI1 = np.random.randn(inputLayerNeurons, hiddenLayerNeurons1)\n",
        "        self.W_HI2 = np.random.randn(hiddenLayerNeurons1, hiddenLayerNeurons2)\n",
        "        self.W_HI3 = np.random.randn(hiddenLayerNeurons2, hiddenLayerNeurons3)\n",
        "        self.W_OH = np.random.randn(hiddenLayerNeurons3, outLayerNeurons)\n",
        "\n",
        "    def softmax(self, x):\n",
        "        exp_values = np.exp(x - np.max(x, axis=1, keepdims=True))\n",
        "        return exp_values / np.sum(exp_values, axis=1, keepdims=True)\n",
        "\n",
        "    def feedForward(self, X):\n",
        "        hidden_input1 = np.dot(X, self.W_HI1)\n",
        "        hidden_output1 = np.tanh(hidden_input1)\n",
        "\n",
        "        hidden_input2 = np.dot(hidden_output1, self.W_HI2)\n",
        "        hidden_output2 = np.tanh(hidden_input2)\n",
        "\n",
        "        hidden_input3 = np.dot(hidden_output2, self.W_HI3)\n",
        "        hidden_output3 = np.tanh(hidden_input3)\n",
        "\n",
        "        output_input = np.dot(hidden_output3, self.W_OH)\n",
        "        pred = self.softmax(output_input)\n",
        "        return pred\n",
        "\n",
        "    def backPropagation(self, X, Y, pred):\n",
        "        output_error = pred - Y\n",
        "        hidden_error3 = output_error.dot(self.W_OH.T) * (1 - np.power(np.tanh(np.dot(X.dot(self.W_HI1), self.W_HI2).dot(self.W_HI3)), 2))\n",
        "        hidden_error2 = hidden_error3.dot(self.W_HI3.T) * (1 - np.power(np.tanh(np.dot(X.dot(self.W_HI1), self.W_HI2)), 2))\n",
        "        hidden_error1 = hidden_error2.dot(self.W_HI2.T) * (1 - np.power(np.tanh(np.dot(X, self.W_HI1)), 2))\n",
        "\n",
        "        self.W_HI1 += X.T.dot(hidden_error1) * self.learning_rate\n",
        "        self.W_HI2 += np.dot(np.tanh(np.dot(X, self.W_HI1)).T, hidden_error2) * self.learning_rate\n",
        "        self.W_HI3 += np.dot(np.tanh(np.dot(np.tanh(np.dot(X, self.W_HI1)), self.W_HI2)).T, hidden_error3) * self.learning_rate\n",
        "        self.W_OH += np.dot(np.tanh(np.dot(np.tanh(np.dot(np.tanh(np.dot(X, self.W_HI1)), self.W_HI2)), self.W_HI3)).T, output_error) * self.learning_rate\n",
        "\n",
        "    def train(self, X, Y):\n",
        "        output = self.feedForward(X)\n",
        "        self.backPropagation(X, Y, output)"
      ],
      "metadata": {
        "id": "PBWZIULSkw9p"
      },
      "execution_count": 12,
      "outputs": []
    },
    {
      "cell_type": "code",
      "source": [
        "# Training the neural network\n",
        "NN = NeuralNetwork()\n",
        "err = []\n",
        "\n",
        "for i in range(5000):\n",
        "    NN.train(X_train, np.eye(5)[Y_train.reshape(-1)])\n",
        "    err.append(np.mean(np.square(np.eye(5)[Y_train.reshape(-1)] - NN.feedForward(X_train))))\n",
        "\n",
        "plt.plot(err)"
      ],
      "metadata": {
        "colab": {
          "base_uri": "https://localhost:8080/",
          "height": 449
        },
        "id": "QARC7l8-k0X4",
        "outputId": "dcea51ea-a263-4942-da22-68a0e7262df4"
      },
      "execution_count": 13,
      "outputs": [
        {
          "output_type": "execute_result",
          "data": {
            "text/plain": [
              "[<matplotlib.lines.Line2D at 0x7a0f93b2ee60>]"
            ]
          },
          "metadata": {},
          "execution_count": 13
        },
        {
          "output_type": "display_data",
          "data": {
            "text/plain": [
              "<Figure size 640x480 with 1 Axes>"
            ],
            "image/png": "[encoded data removed]"
          },
          "metadata": {}
        }
      ]
    },
    {
      "cell_type": "code",
      "source": [
        "# Testing the neural network\n",
        "Y_pred = np.argmax(NN.feedForward(X_test), axis=1)"
      ],
      "metadata": {
        "id": "RN9pNZSllJ4Q"
      },
      "execution_count": 14,
      "outputs": []
    },
    {
      "cell_type": "code",
      "source": [
        "# Evaluating performance\n",
        "accuracy = accuracy_score(Y_test, Y_pred)\n",
        "precision = precision_score(Y_test, Y_pred, average='macro')\n",
        "recall = recall_score(Y_test, Y_pred, average='macro')\n",
        "f1 = f1_score(Y_test, Y_pred, average='macro')\n",
        "conf_matrix = confusion_matrix(Y_test, Y_pred)\n",
        "\n",
        "print(\"Accuracy:\", accuracy)\n",
        "print(\"Precision:\", precision)\n",
        "print(\"Recall:\", recall)\n",
        "print(\"F1 Score:\", f1)\n",
        "print(\"Confusion Matrix:\")\n",
        "print(conf_matrix)"
      ],
      "metadata": {
        "colab": {
          "base_uri": "https://localhost:8080/"
        },
        "id": "DIZE8jYwlSfl",
        "outputId": "e99c0ee2-02a9-48fb-e17d-db39a281adcb"
      },
      "execution_count": 15,
      "outputs": [
        {
          "output_type": "stream",
          "name": "stdout",
          "text": [
            "Accuracy: 0.24\n",
            "Precision: 0.09790660225442835\n",
            "Recall: 0.2148148148148148\n",
            "F1 Score: 0.13226788432267886\n",
            "Confusion Matrix:\n",
            "[[ 0  0  9  0  4]\n",
            " [ 0  0 15  0  7]\n",
            " [ 0  0 10  0  8]\n",
            " [ 0  0  7  0 13]\n",
            " [ 0  0 13  0 14]]\n"
          ]
        },
        {
          "output_type": "stream",
          "name": "stderr",
          "text": [
            "/usr/local/lib/python3.10/dist-packages/sklearn/metrics/_classification.py:1344: UndefinedMetricWarning: Precision is ill-defined and being set to 0.0 in labels with no predicted samples. Use `zero_division` parameter to control this behavior.\n",
            "  _warn_prf(average, modifier, msg_start, len(result))\n"
          ]
        }
      ]
    }
  ]
}